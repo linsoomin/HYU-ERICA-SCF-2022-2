{
  "nbformat": 4,
  "nbformat_minor": 0,
  "metadata": {
    "colab": {
      "private_outputs": true,
      "provenance": [],
      "authorship_tag": "ABX9TyP0DRh8dKw/TlUJPQR2Rw/H",
      "include_colab_link": true
    },
    "kernelspec": {
      "name": "python3",
      "display_name": "Python 3"
    },
    "language_info": {
      "name": "python"
    }
  },
  "cells": [
    {
      "cell_type": "markdown",
      "metadata": {
        "id": "view-in-github",
        "colab_type": "text"
      },
      "source": [
        "<a href=\"https://colab.research.google.com/github/linsoomin/HYU-ERICA-SCF-2022-2/blob/alsh02/design_%08department.ipynb\" target=\"_parent\"><img src=\"https://colab.research.google.com/assets/colab-badge.svg\" alt=\"Open In Colab\"/></a>"
      ]
    },
    {
      "cell_type": "code",
      "execution_count": null,
      "metadata": {
        "id": "8mg1xXhpzlbY"
      },
      "outputs": [],
      "source": [
        "from google.colab import drive\n",
        "drive.mount('/content/drive')"
      ]
    },
    {
      "cell_type": "code",
      "source": [
        "import pandas as pd\n",
        "import numpy as np"
      ],
      "metadata": {
        "id": "rOHQlzG40EMs"
      },
      "execution_count": null,
      "outputs": []
    },
    {
      "cell_type": "code",
      "source": [
        "industry_design_data = pd.read_excel(\"/content/drive/MyDrive/감사_파일/디자인대학_전체학과/산업디자인학과/2022_2학기_중앙감사_산업디자인학과.xlsx\")\n",
        "surface_design_data = pd.read_excel(\"/content/drive/MyDrive/감사_파일/디자인대학_전체학과/서피스인테리어학과/2022_2학기_중앙감사_서피스인테리어디자인학과.xlsx\")\n",
        "media_design_data = pd.read_excel(\"/content/drive/MyDrive/감사_파일/디자인대학_전체학과/영상디자인학과/2022_2학기_중앙감사_영상디자인학과.xlsx\")\n",
        "jewelry_design_data = pd.read_excel(\"/content/drive/MyDrive/감사_파일/디자인대학_전체학과/주얼리패션디자인학과/2022_2학기_디자인대학 주얼리패션디자인학과 감사_.xlsx\")\n",
        "communication_design_data = pd.read_excel(\"/content/drive/MyDrive/감사_파일/디자인대학_전체학과/커뮤니케이션디자인학과/2022_2학기_중앙감사_커뮤니케이션디자인학과.xlsx\")"
      ],
      "metadata": {
        "id": "94QIEvU60IU-"
      },
      "execution_count": null,
      "outputs": []
    },
    {
      "cell_type": "code",
      "source": [
        "industry_design_data"
      ],
      "metadata": {
        "id": "VZZyx1XQlY61"
      },
      "execution_count": null,
      "outputs": []
    },
    {
      "cell_type": "code",
      "source": [
        "surface_design_data"
      ],
      "metadata": {
        "id": "cGFbS65PlbHx"
      },
      "execution_count": null,
      "outputs": []
    },
    {
      "cell_type": "code",
      "source": [
        "media_design_data"
      ],
      "metadata": {
        "id": "YJ14eZN_lhz-"
      },
      "execution_count": null,
      "outputs": []
    },
    {
      "cell_type": "code",
      "source": [
        "jewelry_design_data"
      ],
      "metadata": {
        "id": "U0cRfp4xliV2"
      },
      "execution_count": null,
      "outputs": []
    },
    {
      "cell_type": "code",
      "source": [
        "communication_design_data"
      ],
      "metadata": {
        "id": "h_4UNRvblpY6"
      },
      "execution_count": null,
      "outputs": []
    },
    {
      "cell_type": "code",
      "source": [
        "def to_month(month_num):\n",
        "    month = ''\n",
        "    if 1<= month_num < 2:\n",
        "        month = '1월'\n",
        "    elif 2<= month_num < 3:\n",
        "        month = '2월'\n",
        "    elif 3<= month_num < 4:\n",
        "        month = '3월'\n",
        "    elif 4<= month_num < 5:\n",
        "        month = '4월'\n",
        "    elif 5<= month_num < 6:\n",
        "        month = '5월'\n",
        "    elif 6<= month_num < 7:\n",
        "        month = '6월'\n",
        "    elif 7<= month_num < 8:\n",
        "        month = '7월'\n",
        "    elif 8<= month_num < 9:\n",
        "        month = '8월'\n",
        "    elif 9<= month_num < 10:\n",
        "        month = '9월'\n",
        "    elif 10<= month_num < 11:\n",
        "        month = '10월'\n",
        "    elif 11<= month_num < 12:\n",
        "        month = '11월'\n",
        "    else:\n",
        "        month = '12월'\n",
        "        \n",
        "    return month"
      ],
      "metadata": {
        "id": "nsxXOEFD2Apo"
      },
      "execution_count": null,
      "outputs": []
    },
    {
      "cell_type": "code",
      "source": [
        "industry_design_data[\"날짜\"] = pd.to_datetime(industry_design_data[\"날짜\"], format='%Y-%m-%d')\n",
        "industry_design_data[\"날짜\"] = pd.Categorical(\n",
        "    industry_design_data['날짜'].dt.month.apply(to_month), \n",
        "    categories = ['1월', '2월', '3월', '4월', '5월', '6월', '7월', '8월', '9월', '10월', '11월', '12월']\n",
        ")\n",
        "\n",
        "surface_design_data[\"날짜\"] = pd.to_datetime(surface_design_data[\"날짜\"], format='%Y-%m-%d')\n",
        "surface_design_data[\"날짜\"] = pd.Categorical(\n",
        "    surface_design_data['날짜'].dt.month.apply(to_month), \n",
        "    categories = ['1월', '2월', '3월', '4월', '5월', '6월', '7월', '8월', '9월', '10월', '11월', '12월']\n",
        ")\n",
        "\n",
        "media_design_data[\"날짜\"] = pd.to_datetime(media_design_data[\"날짜\"], format='%Y-%m-%d')\n",
        "media_design_data[\"날짜\"] = pd.Categorical(\n",
        "    media_design_data['날짜'].dt.month.apply(to_month), \n",
        "    categories = ['1월', '2월', '3월', '4월', '5월', '6월', '7월', '8월', '9월', '10월', '11월', '12월']\n",
        ")\n",
        "\n",
        "jewelry_design_data[\"날짜\"] = pd.to_datetime(jewelry_design_data[\"날짜\"], format='%Y-%m-%d')\n",
        "jewelry_design_data[\"날짜\"] = pd.Categorical(\n",
        "    jewelry_design_data['날짜'].dt.month.apply(to_month), \n",
        "    categories=['1월', '2월', '3월', '4월', '5월', '6월', '7월', '8월', '9월', '10월', '11월', '12월']\n",
        ")\n",
        "\n",
        "communication_design_data[\"날짜\"] = pd.to_datetime(communication_design_data[\"날짜\"], format='%Y-%m-%d')\n",
        "communication_design_data[\"날짜\"] = pd.Categorical(\n",
        "    communication_design_data['날짜'].dt.month.apply(to_month), \n",
        "    categories=['1월', '2월', '3월', '4월', '5월', '6월', '7월', '8월', '9월', '10월', '11월', '12월']\n",
        ")\n"
      ],
      "metadata": {
        "id": "TA_fvLCA1CzN"
      },
      "execution_count": null,
      "outputs": []
    },
    {
      "cell_type": "code",
      "source": [
        "industry_design_data"
      ],
      "metadata": {
        "id": "O2RfseY23Uri"
      },
      "execution_count": null,
      "outputs": []
    },
    {
      "cell_type": "markdown",
      "source": [
        "## 결측치 확인 및 수정\n",
        "각 column에 결측치가 어떻게 존재하는지 확인하고 0이나 -으로 대체합니다."
      ],
      "metadata": {
        "id": "liQNO5_T5PT6"
      }
    },
    {
      "cell_type": "code",
      "source": [
        "industry_design_data.isna().sum()"
      ],
      "metadata": {
        "id": "UO-Df6PA4lDU"
      },
      "execution_count": null,
      "outputs": []
    },
    {
      "cell_type": "code",
      "source": [
        "surface_design_data.isna().sum()"
      ],
      "metadata": {
        "id": "o24sIRJYsgZp"
      },
      "execution_count": null,
      "outputs": []
    },
    {
      "cell_type": "code",
      "source": [
        "jewelry_design_data.isna().sum()"
      ],
      "metadata": {
        "id": "EPV06vokshx9"
      },
      "execution_count": null,
      "outputs": []
    },
    {
      "cell_type": "code",
      "source": [
        "media_design_data.isna().sum()"
      ],
      "metadata": {
        "id": "dSxJzqRHsjCv"
      },
      "execution_count": null,
      "outputs": []
    },
    {
      "cell_type": "code",
      "source": [
        "communication_design_data.isna().sum()"
      ],
      "metadata": {
        "id": "HKKM2PTTslv4"
      },
      "execution_count": null,
      "outputs": []
    },
    {
      "cell_type": "code",
      "source": [
        "industry_design_data[\"수입\"] = industry_design_data[\"수입\"].fillna(0)\n",
        "industry_design_data[\"지출\"] = industry_design_data[\"지출\"].fillna(0)\n",
        "industry_design_data[\"사업\"] = industry_design_data[\"사업\"].fillna(\"-\")\n",
        "industry_design_data[\"세부항목\"] = industry_design_data[\"세부항목\"].fillna(\"-\")\n",
        "\n",
        "surface_design_data[\"수입\"] = surface_design_data[\"수입\"].fillna(0)\n",
        "surface_design_data[\"지출\"] = surface_design_data[\"지출\"].fillna(0)\n",
        "surface_design_data[\"사업\"] = surface_design_data[\"사업\"].fillna(\"-\")\n",
        "surface_design_data[\"세부항목\"] = surface_design_data[\"세부항목\"].fillna(\"-\")\n",
        "\n",
        "jewelry_design_data[\"수입\"] = jewelry_design_data[\"수입\"].fillna(0)\n",
        "jewelry_design_data[\"지출\"] = jewelry_design_data[\"지출\"].fillna(0)\n",
        "jewelry_design_data[\"사업\"] = jewelry_design_data[\"사업\"].fillna(\"-\")\n",
        "jewelry_design_data[\"세부항목\"] = jewelry_design_data[\"세부항목\"].fillna(\"-\")\n",
        "\n",
        "media_design_data[\"수입\"] = media_design_data[\"수입\"].fillna(0)\n",
        "media_design_data[\"지출\"] = media_design_data[\"지출\"].fillna(0)\n",
        "media_design_data[\"사업\"] = media_design_data[\"사업\"].fillna(\"-\")\n",
        "media_design_data[\"세부항목\"] = media_design_data[\"세부항목\"].fillna(\"-\")\n",
        "\n",
        "communication_design_data[\"수입\"] = communication_design_data[\"수입\"].fillna(0)\n",
        "communication_design_data[\"지출\"] = communication_design_data[\"지출\"].fillna(0)\n",
        "communication_design_data[\"사업\"] = communication_design_data[\"사업\"].fillna(\"-\")\n",
        "communication_design_data[\"세부항목\"] = communication_design_data[\"세부항목\"].fillna(\"-\")"
      ],
      "metadata": {
        "id": "QRBtIcES5YnF"
      },
      "execution_count": null,
      "outputs": []
    },
    {
      "cell_type": "code",
      "source": [
        "industry_design_data"
      ],
      "metadata": {
        "id": "tgOob0_26ZXI"
      },
      "execution_count": null,
      "outputs": []
    },
    {
      "cell_type": "code",
      "source": [
        "surface_design_data"
      ],
      "metadata": {
        "id": "14Wvhdo1qKQP"
      },
      "execution_count": null,
      "outputs": []
    },
    {
      "cell_type": "code",
      "source": [
        "jewelry_design_data"
      ],
      "metadata": {
        "id": "8bKBg8cpqON4"
      },
      "execution_count": null,
      "outputs": []
    },
    {
      "cell_type": "code",
      "source": [
        "media_design_data"
      ],
      "metadata": {
        "id": "LpGFUnbPqTpt"
      },
      "execution_count": null,
      "outputs": []
    },
    {
      "cell_type": "code",
      "source": [
        "communication_design_data"
      ],
      "metadata": {
        "id": "eivaKqNFqVLo"
      },
      "execution_count": null,
      "outputs": []
    },
    {
      "cell_type": "markdown",
      "source": [
        "## 수입 데이터 추출\n",
        "전체 데이터에서 수입 데이터만 추출합니다."
      ],
      "metadata": {
        "id": "pRgUP6WKP2OR"
      }
    },
    {
      "cell_type": "code",
      "source": [
        "industry_design_income_data = industry_design_data.loc[industry_design_data['수입'] > 0].drop(['지출'], axis=1)\n",
        "industry_design_income_data"
      ],
      "metadata": {
        "id": "UDRqo3ms7Ni1"
      },
      "execution_count": null,
      "outputs": []
    },
    {
      "cell_type": "code",
      "source": [
        "surface_design_income_data = surface_design_data.loc[surface_design_data['수입'] > 0].drop(['지출'], axis=1)\n",
        "surface_design_income_data"
      ],
      "metadata": {
        "id": "Q6JOthhbvf_H"
      },
      "execution_count": null,
      "outputs": []
    },
    {
      "cell_type": "code",
      "source": [
        "jewelry_design_income_data = jewelry_design_data.loc[jewelry_design_data['수입'] > 0].drop(['지출'], axis=1)\n",
        "jewelry_design_income_data"
      ],
      "metadata": {
        "id": "6uvuxmcQviwO"
      },
      "execution_count": null,
      "outputs": []
    },
    {
      "cell_type": "code",
      "source": [
        "media_design_income_data = media_design_data.loc[media_design_data['수입'] > 0].drop(['지출'], axis=1)\n",
        "media_design_income_data"
      ],
      "metadata": {
        "id": "5kmdd26Pvl8N"
      },
      "execution_count": null,
      "outputs": []
    },
    {
      "cell_type": "code",
      "source": [
        "communication_design_income_data = communication_design_data.loc[communication_design_data['수입'] > 0].drop(['지출'], axis=1)\n",
        "communication_design_income_data"
      ],
      "metadata": {
        "id": "8uuF4fwWvqvr"
      },
      "execution_count": null,
      "outputs": []
    },
    {
      "cell_type": "markdown",
      "source": [
        "## 지출 데이터 추출\n",
        "전체 데이터에서 지출 데이터만 추출합니다."
      ],
      "metadata": {
        "id": "dC_Cq-drP7fe"
      }
    },
    {
      "cell_type": "code",
      "source": [
        "industry_design_cost_data = industry_design_data.loc[industry_design_data['지출'] > 0].drop(['수입'], axis=1)\n",
        "industry_design_cost_data"
      ],
      "metadata": {
        "id": "hKKgqshTPFFA"
      },
      "execution_count": null,
      "outputs": []
    },
    {
      "cell_type": "code",
      "source": [
        "surface_design_cost_data = surface_design_data.loc[surface_design_data['지출'] > 0].drop(['수입'], axis=1)\n",
        "surface_design_cost_data"
      ],
      "metadata": {
        "id": "RkM7BiSDwbKx"
      },
      "execution_count": null,
      "outputs": []
    },
    {
      "cell_type": "code",
      "source": [
        "jewelry_design_cost_data = jewelry_design_data.loc[jewelry_design_data['지출'] > 0].drop(['수입'], axis=1)\n",
        "jewelry_design_cost_data"
      ],
      "metadata": {
        "id": "4SmmXQdwwhJu"
      },
      "execution_count": null,
      "outputs": []
    },
    {
      "cell_type": "code",
      "source": [
        "media_design_cost_data = media_design_data.loc[media_design_data['지출'] > 0].drop(['수입'], axis=1)\n",
        "media_design_cost_data"
      ],
      "metadata": {
        "id": "1pCMZrLZwjdd"
      },
      "execution_count": null,
      "outputs": []
    },
    {
      "cell_type": "code",
      "source": [
        "communication_design_cost_data = communication_design_data.loc[communication_design_data['지출'] > 0].drop(['수입'], axis=1)\n",
        "communication_design_cost_data"
      ],
      "metadata": {
        "id": "RbQoV2nDwlfW"
      },
      "execution_count": null,
      "outputs": []
    },
    {
      "cell_type": "markdown",
      "source": [
        "## 월별 수입 금액 합산\n",
        "학과별 월별 수입 금액을 합산한 numpy array를 생성합니다."
      ],
      "metadata": {
        "id": "Q5vL1Kgix1uv"
      }
    },
    {
      "cell_type": "code",
      "source": [
        "industry_design_income_by_month = industry_design_income_data.groupby(\"날짜\")[[\"수입\"]].sum()\n",
        "industry_design_income_by_month"
      ],
      "metadata": {
        "id": "QFMkAbsEQa1n"
      },
      "execution_count": null,
      "outputs": []
    },
    {
      "cell_type": "code",
      "source": [
        "surface_design_income_by_month = surface_design_income_data.groupby(\"날짜\")[[\"수입\"]].sum()\n",
        "surface_design_income_by_month"
      ],
      "metadata": {
        "id": "EDkL6v7nxcft"
      },
      "execution_count": null,
      "outputs": []
    },
    {
      "cell_type": "code",
      "source": [
        "jewelry_design_income_by_month = jewelry_design_income_data.groupby(\"날짜\")[[\"수입\"]].sum()\n",
        "jewelry_design_income_by_month"
      ],
      "metadata": {
        "id": "NSsykIDMxfm7"
      },
      "execution_count": null,
      "outputs": []
    },
    {
      "cell_type": "code",
      "source": [
        "media_design_income_by_month = media_design_income_data.groupby(\"날짜\")[[\"수입\"]].sum()\n",
        "media_design_income_by_month"
      ],
      "metadata": {
        "id": "H5VuDhC-xgmx"
      },
      "execution_count": null,
      "outputs": []
    },
    {
      "cell_type": "code",
      "source": [
        "communication_design_income_by_month = communication_design_income_data.groupby(\"날짜\")[[\"수입\"]].sum()\n",
        "communication_design_income_by_month"
      ],
      "metadata": {
        "id": "C09l5LCvxltT"
      },
      "execution_count": null,
      "outputs": []
    },
    {
      "cell_type": "code",
      "source": [
        "industry_design_cost_by_month = industry_design_cost_data.groupby(\"날짜\")[['지출']].sum() \n",
        "industry_design_cost_by_month"
      ],
      "metadata": {
        "id": "TI2k_2P_SuV-"
      },
      "execution_count": null,
      "outputs": []
    },
    {
      "cell_type": "code",
      "source": [
        "surface_design_cost_by_month = surface_design_cost_data.groupby(\"날짜\")[['지출']].sum()\n",
        "surface_design_cost_by_month"
      ],
      "metadata": {
        "id": "rBixnNFxysb8"
      },
      "execution_count": null,
      "outputs": []
    },
    {
      "cell_type": "code",
      "source": [
        "jewelry_design_cost_by_month = jewelry_design_cost_data.groupby(\"날짜\")[['지출']].sum()\n",
        "jewelry_design_cost_by_month"
      ],
      "metadata": {
        "id": "cWYouy0kyzN0"
      },
      "execution_count": null,
      "outputs": []
    },
    {
      "cell_type": "code",
      "source": [
        "media_design_cost_by_month = media_design_cost_data.groupby(\"날짜\")[['지출']].sum()\n",
        "media_design_cost_by_month"
      ],
      "metadata": {
        "id": "IbdmQYzzy17N"
      },
      "execution_count": null,
      "outputs": []
    },
    {
      "cell_type": "code",
      "source": [
        "communication_design_cost_by_month = communication_design_cost_data.groupby(\"날짜\")[['지출']].sum()\n",
        "communication_design_cost_by_month"
      ],
      "metadata": {
        "id": "Vd0YqY8Zy5Pj"
      },
      "execution_count": null,
      "outputs": []
    },
    {
      "cell_type": "markdown",
      "source": [
        "## 시각화\n",
        "월별 수입, 지출 데이터를 도표로 시각화합니다."
      ],
      "metadata": {
        "id": "Qg_7t43iToM-"
      }
    },
    {
      "cell_type": "code",
      "source": [
        "!sudo apt-get install -y fonts-nanum\n",
        "!sudo fc-cache -fv\n",
        "!rm ~/.cache/matplotlib -rf"
      ],
      "metadata": {
        "id": "eL9robj2WWYe"
      },
      "execution_count": null,
      "outputs": []
    },
    {
      "cell_type": "code",
      "source": [
        "import matplotlib.pyplot as plt\n",
        "import matplotlib.ticker as ticker"
      ],
      "metadata": {
        "id": "bvDpmTcEQd44"
      },
      "execution_count": null,
      "outputs": []
    },
    {
      "cell_type": "code",
      "source": [
        "month = ['1월', '2월', '3월', '4월', '5월', '6월', '7월', '8월', '9월', '10월', '11월', '12월']"
      ],
      "metadata": {
        "id": "uyrQ2b6D05qw"
      },
      "execution_count": null,
      "outputs": []
    },
    {
      "cell_type": "code",
      "source": [
        "plt.figure(figsize=(10, 5), dpi=100)\n",
        "plt.xlabel(\"월\")\n",
        "plt.ylabel(\"금액\")\n",
        "plt.title(\"산업디자인학과 월별 수입 / 지출 총액\")\n",
        "\n",
        "plt.rc('font', family='NanumBarunGothic') \n",
        "plt.gca().yaxis.set_major_formatter(\\\n",
        "ticker.FuncFormatter(lambda y, pos: \n",
        "'{:,.0f}'.format(y/10000) + '만원'))\n",
        "\n",
        "plt.axhline(y=0)\n",
        "plt.bar(month, industry_design_income_by_month['수입'], width=0.3, color=\"dodgerblue\")\n",
        "plt.bar(month, -industry_design_cost_by_month['지출'], width=0.3, color=\"red\")\n",
        "\n",
        "for i in range(len(month)):\n",
        "    height1 = industry_design_income_by_month['수입'][i]\n",
        "    if height1 != 0:\n",
        "      plt.text(month[i], height1 * 1.005, '{:,.1f}'.format(height1/10000) + '만원', ha='center', va='bottom', size=8)\n",
        "\n",
        "    height2 = industry_design_cost_by_month['지출'][i]\n",
        "    if height2 != 0:\n",
        "      plt.text(month[i], height2 * -1.005, '{:,.1f}'.format(height2/10000) + '만원', ha='center', va='top', size=8)"
      ],
      "metadata": {
        "id": "cCq4zEOsTnXA"
      },
      "execution_count": null,
      "outputs": []
    },
    {
      "cell_type": "code",
      "source": [
        "plt.figure(figsize=(10, 5), dpi=100)\n",
        "plt.xlabel(\"월\")\n",
        "plt.ylabel(\"금액\")\n",
        "plt.title(\"서피스인테리어디자인학과 월별 수입 / 지출 총액\")\n",
        "\n",
        "plt.rc('font', family='NanumBarunGothic') \n",
        "plt.gca().yaxis.set_major_formatter(\\\n",
        "ticker.FuncFormatter(lambda y, pos: \n",
        "'{:,.0f}'.format(y/10000) + '만원'))\n",
        "\n",
        "plt.axhline(y=0)\n",
        "plt.bar(month, surface_design_income_by_month['수입'], width=0.3, color=\"dodgerblue\")\n",
        "plt.bar(month, -surface_design_cost_by_month['지출'], width=0.3, color=\"red\")\n",
        "\n",
        "for i in range(len(month)):\n",
        "    height1 = surface_design_income_by_month['수입'][i]\n",
        "    if height1 != 0:\n",
        "      plt.text(month[i], height1 * 1.005, '{:,.1f}'.format(height1/10000) + '만원', ha='center', va='bottom', size=8)\n",
        "\n",
        "    height2 = surface_design_cost_by_month['지출'][i]\n",
        "    if height2 != 0:\n",
        "      plt.text(month[i], height2 * -1.005, '{:,.1f}'.format(height2/10000) + '만원', ha='center', va='top', size=8)"
      ],
      "metadata": {
        "id": "kMIdI7yp2Ps4"
      },
      "execution_count": null,
      "outputs": []
    },
    {
      "cell_type": "code",
      "source": [
        "plt.figure(figsize=(10, 5), dpi=100)\n",
        "plt.xlabel(\"월\")\n",
        "plt.ylabel(\"금액\")\n",
        "plt.title(\"주얼리패션디자인학과 월별 수입 / 지출 총액\")\n",
        "\n",
        "plt.rc('font', family='NanumBarunGothic') \n",
        "plt.gca().yaxis.set_major_formatter(\\\n",
        "ticker.FuncFormatter(lambda y, pos: \n",
        "'{:,.0f}'.format(y/10000) + '만원'))\n",
        "\n",
        "plt.axhline(y=0)\n",
        "plt.bar(month, jewelry_design_income_by_month['수입'], width=0.3, color=\"dodgerblue\")\n",
        "plt.bar(month, -jewelry_design_cost_by_month['지출'], width=0.3, color=\"red\")\n",
        "\n",
        "for i in range(len(month)):\n",
        "    height1 = jewelry_design_income_by_month['수입'][i]\n",
        "    if height1 != 0:\n",
        "      plt.text(month[i], height1 * 1.005, '{:,.1f}'.format(height1/10000) + '만원', ha='center', va='bottom', size=8)\n",
        "\n",
        "    height2 = jewelry_design_cost_by_month['지출'][i]\n",
        "    if height2 != 0:\n",
        "      plt.text(month[i], height2 * -1.005, '{:,.1f}'.format(height2/10000) + '만원', ha='center', va='top', size=8)"
      ],
      "metadata": {
        "id": "cgZUjHAw2RwC"
      },
      "execution_count": null,
      "outputs": []
    },
    {
      "cell_type": "code",
      "source": [
        "plt.figure(figsize=(10, 5), dpi=100)\n",
        "plt.xlabel(\"월\")\n",
        "plt.ylabel(\"금액\")\n",
        "plt.title(\"영상디자인학과 월별 수입 / 지출 총액\")\n",
        "\n",
        "plt.rc('font', family='NanumBarunGothic') \n",
        "plt.gca().yaxis.set_major_formatter(\\\n",
        "ticker.FuncFormatter(lambda y, pos: \n",
        "'{:,.0f}'.format(y/10000) + '만원'))\n",
        "\n",
        "plt.axhline(y=0)\n",
        "plt.bar(month, media_design_income_by_month['수입'], width=0.3, color=\"dodgerblue\")\n",
        "plt.bar(month, -media_design_cost_by_month['지출'], width=0.3, color=\"red\")\n",
        "\n",
        "for i in range(len(month)):\n",
        "    height1 = media_design_income_by_month['수입'][i]\n",
        "    if height1 != 0:\n",
        "      plt.text(month[i], height1 * 1.005, '{:,.1f}'.format(height1/10000) + '만원', ha='center', va='bottom', size=8)\n",
        "\n",
        "    height2 = media_design_cost_by_month['지출'][i]\n",
        "    if height2 != 0:\n",
        "      plt.text(month[i], height2 * -1.005, '{:,.1f}'.format(height2/10000) + '만원', ha='center', va='top', size=8)"
      ],
      "metadata": {
        "id": "kUGh-xqM2RbW"
      },
      "execution_count": null,
      "outputs": []
    },
    {
      "cell_type": "code",
      "source": [
        "plt.figure(figsize=(10, 5), dpi=100)\n",
        "plt.xlabel(\"월\")\n",
        "plt.ylabel(\"금액\")\n",
        "plt.title(\"커뮤니케이션디자인학과 월별 수입 / 지출 총액\")\n",
        "\n",
        "plt.rc('font', family='NanumBarunGothic') \n",
        "plt.gca().yaxis.set_major_formatter(\\\n",
        "ticker.FuncFormatter(lambda y, pos: \n",
        "'{:,.0f}'.format(y/10000) + '만원'))\n",
        "\n",
        "plt.axhline(y=0)\n",
        "plt.bar(month, communication_design_income_by_month['수입'], width=0.3, color=\"dodgerblue\")\n",
        "plt.bar(month, -communication_design_cost_by_month['지출'], width=0.3, color=\"red\")\n",
        "\n",
        "for i in range(len(month)):\n",
        "    height1 = communication_design_income_by_month['수입'][i]\n",
        "    if height1 != 0:\n",
        "      plt.text(month[i], height1 * 1.005, '{:,.1f}'.format(height1/10000) + '만원', ha='center', va='bottom', size=8)\n",
        "\n",
        "    height2 = communication_design_cost_by_month['지출'][i]\n",
        "    if height2 != 0:\n",
        "      plt.text(month[i], height2 * -1.005, '{:,.1f}'.format(height2/10000) + '만원', ha='center', va='top', size=8)"
      ],
      "metadata": {
        "id": "v0pgGOD92SlT"
      },
      "execution_count": null,
      "outputs": []
    },
    {
      "cell_type": "markdown",
      "source": [
        "## 주제별 학과 데이터\n",
        "1. 2학기 지출이 가장 큰 학과는?\n",
        "2. 2학기 학생회비가 가장 많이 모인 학과는?\n",
        "3. 2학기 중간 / 기말 야식 사업을 가장 많이 한 학과는?\n",
        "4. 학과별로 월별로 가장 많이 쓴 달은?\n",
        "5. 학과별로 지출 금액이 가장 높았던 내용과 사업명은?"
      ],
      "metadata": {
        "id": "OWb0dXtQ4zu6"
      }
    },
    {
      "cell_type": "code",
      "source": [
        "departments = [\"산업디자인학과\", \"서피스인테리어디자인학과\", \"주얼리패션디자인학과\", \"영상디자인학과\", \"커뮤니케이션디자인학과\"]"
      ],
      "metadata": {
        "id": "DQ3pNfYR7kRC"
      },
      "execution_count": null,
      "outputs": []
    },
    {
      "cell_type": "code",
      "source": [
        "industry_design_cost_sum = industry_design_cost_by_month[\"지출\"].sum()\n",
        "surface_design_cost_sum = surface_design_cost_by_month[\"지출\"].sum()\n",
        "jewelry_design_cost_sum = jewelry_design_cost_by_month[\"지출\"].sum()\n",
        "media_design_cost_sum = media_design_cost_by_month[\"지출\"].sum()\n",
        "communication_design_cost_sum = communication_design_cost_by_month[\"지출\"].sum()\n",
        "\n",
        "cost_sum_by_departments = [\n",
        "    industry_design_cost_sum,\n",
        "    surface_design_cost_sum,\n",
        "    jewelry_design_cost_sum,\n",
        "    media_design_cost_sum,\n",
        "    communication_design_cost_sum\n",
        "]\n",
        "\n",
        "max_cost = max(list(zip(cost_sum_by_departments, departments)), key=(lambda x : x[0]))\n",
        "print(f\"2학기 지출이 가장 큰 학과는 {max_cost[1]}입니다.\")"
      ],
      "metadata": {
        "id": "l9Q2LfY65YjU"
      },
      "execution_count": null,
      "outputs": []
    },
    {
      "cell_type": "code",
      "source": [
        "industry_design_income_sum = industry_design_income_by_month[\"수입\"].sum()\n",
        "surface_design_income_sum = surface_design_income_by_month[\"수입\"].sum()\n",
        "jewelry_design_income_sum = jewelry_design_income_by_month[\"수입\"].sum()\n",
        "media_design_income_sum = media_design_income_by_month[\"수입\"].sum()\n",
        "communication_design_income_sum = communication_design_income_by_month[\"수입\"].sum()\n",
        "\n",
        "income_sum_by_departments = [\n",
        "    industry_design_income_sum, \n",
        "    surface_design_income_sum,\n",
        "    jewelry_design_income_sum,\n",
        "    media_design_income_sum,\n",
        "    communication_design_income_sum\n",
        "    ]\n",
        "\n",
        "max_income = max(list(zip(income_sum_by_departments, departments)), key=(lambda x : x[0]))\n",
        "print(f\"2학기 수입이 가장 큰 학과는 {max_income[1]}입니다.\")"
      ],
      "metadata": {
        "id": "SkLeSCn47hIq"
      },
      "execution_count": null,
      "outputs": []
    },
    {
      "cell_type": "code",
      "source": [
        "def snack_count(cost_data):\n",
        "  count = 0\n",
        "\n",
        "  if \"간식\" in cost_data[\"사업\"] or \"야식\" in cost_data[\"사업\"]:\n",
        "    count += 1\n",
        "\n",
        "  return count\n",
        "\n",
        "snack_count_by_departments = [\n",
        "  snack_count(industry_design_cost_data),\n",
        "  snack_count(surface_design_cost_data),\n",
        "  snack_count(jewelry_design_cost_data),\n",
        "  snack_count(media_design_cost_data),\n",
        "  snack_count(communication_design_cost_data)\n",
        "]\n",
        "\n",
        "max_snack_count = max(list(zip(snack_count_by_departments, departments)), key=(lambda x : x[0]))\n",
        "print(f\"2학기 중간 / 기말 야식 사업을 가장 많이 한 학과는 {max_income[1]}입니다.\")"
      ],
      "metadata": {
        "id": "PP5IqRb776-h"
      },
      "execution_count": null,
      "outputs": []
    },
    {
      "cell_type": "code",
      "source": [
        "import numpy as np"
      ],
      "metadata": {
        "id": "yVp5Cc2xBEqu"
      },
      "execution_count": null,
      "outputs": []
    },
    {
      "cell_type": "code",
      "source": [
        "def max_cost_by_month(cost_by_month):\n",
        "  max_value = cost_by_month.nlargest(1, '지출')\n",
        "  return max_value\n",
        "\n",
        "max_cost_by_month_by_departments = [\n",
        "    max_cost_by_month(industry_design_cost_by_month)['날짜'],\n",
        "    max_cost_by_month(surface_design_cost_by_month),\n",
        "    max_cost_by_month(jewelry_design_cost_by_month),\n",
        "    max_cost_by_month(media_design_cost_by_month),\n",
        "    max_cost_by_month(communication_design_cost_by_month)\n",
        "]\n",
        "\n",
        "for max_cost_by_month, department in list(zip(max_cost_by_month_by_departments, departments)):\n",
        "  print(f\"{department}의 가장 지출이 큰 달은 {max_cost_by_month}\")\n"
      ],
      "metadata": {
        "id": "wuBsejCH-Asv"
      },
      "execution_count": null,
      "outputs": []
    }
  ]
}