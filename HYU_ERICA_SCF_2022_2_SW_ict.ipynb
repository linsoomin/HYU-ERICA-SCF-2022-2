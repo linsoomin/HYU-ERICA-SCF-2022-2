{
  "cells": [
    {
      "attachments": {},
      "cell_type": "markdown",
      "metadata": {},
      "source": [
        "<b> 소융대 ICT 데이터 불러오기 </b>"
      ]
    },
    {
      "cell_type": "code",
      "execution_count": 45,
      "metadata": {
        "id": "ri4M6Vz5iolt"
      },
      "outputs": [
        {
          "name": "stdout",
          "output_type": "stream",
          "text": [
            "            날짜           내용      수입      지출        잔액  \\\n",
            "1   2022-06-23           쿠팡       0   99750  14916900   \n",
            "2   2022-06-23           쿠팡       0  159680  14757220   \n",
            "3   2022-06-23           쿠팡       0  158860  14598360   \n",
            "4   2022-06-23           쿠팡       0    8500  14589860   \n",
            "5   2022-06-23           쿠팡       0  186360  14403500   \n",
            "..         ...          ...     ...     ...       ...   \n",
            "79  2022-12-17  09.17~12.16    1142       0   4089660   \n",
            "80  2022-12-19           쿠팡       0  337020   3752640   \n",
            "81  2022-12-21   윤채은(칠성포차한양       0  761500   2991140   \n",
            "82  2022-12-29            0  245000       0   3236140   \n",
            "83  2022-12-31      카카오_선물하       0   35000   3201140   \n",
            "\n",
            "                                                 세부항목  \n",
            "1   [과MT_물품 구매]\\n코리아보드게임즈 폭탄돌리기, 혼합 색상 (18,740원 * ...  \n",
            "2   [과MT_물품 구매]\\n홈플래닛 고급형 알루미늄 노트북 거치대(쿨링홀 + 높이각도 ...  \n",
            "3   [과MT_물품 구매]\\n옹달샘 세미나 명찰 세로형 95 x 122 mm, 회색, 3...  \n",
            "4   [과MT_물품 구매]\\n개인용 슬라이딩 페이퍼 사진 커터기, A4, 단일 상품(블랙...  \n",
            "5   [과MT_물품 구매]\\n롯데이라이프 친환경 일회용접시, 10개입, 180mm, 7개...  \n",
            "..                                                ...  \n",
            "79                                              은행 이자  \n",
            "80  [2학기 종강총회 상품 구매]\\n해피데이 포켓형 대용량 핫팩 150g, 50개 (2...  \n",
            "81  [2학기 종강총회_카드결제]\\n통삼겹두루치기 (18,000원 * 7개)\\n돈서방김치...  \n",
            "82  [2학기 종강총회_현금입금]\\n학생회비 납부자 (5,000원 * 35명)\\n학생회비...  \n",
            "83  [2학기 개강총회 상품 구매]\\nGS25 모바일 상품권 5천원권 (5,000원 * 7개)  \n",
            "\n",
            "[83 rows x 6 columns]\n"
          ]
        }
      ],
      "source": [
        "import pandas as pd\n",
        "\n",
        "file_path = \"C:/ie/2022_2학기_중앙감사_ICT융합학부.xlsx - 결산안.csv\"\n",
        "ict = pd.read_csv(file_path, skiprows=2)\n",
        "\n",
        "ict.fillna(0, inplace=True)\n",
        "\n",
        "ict.columns = ['','날짜', '내용', '수입', '지출', '잔액', '잔액_2', '세부항목']  # Change the second '잔액' column name to '잔액_2'\n",
        "\n",
        "ict = ict.drop(['', '잔액_2'], axis=1)  # Drop the unnecessary and duplicate columns\n",
        "\n",
        "ict.drop(0, inplace=True)\n",
        "\n",
        "# remove the ₩ symbol and convert numbers to integer\n",
        "ict['잔액'] = pd.to_numeric(ict['잔액'].astype(str).str.replace('₩', '').str.replace(',', ''), errors='coerce').astype('Int64')\n",
        "ict['수입'] = pd.to_numeric(ict['수입'].astype(str).str.replace('₩', '').str.replace(',', ''), errors='coerce').astype('Int64')\n",
        "ict['지출'] = pd.to_numeric(ict['지출'].astype(str).str.replace('₩', '').str.replace(',', ''), errors='coerce').astype('Int64')\n",
        "\n",
        "print(ict)\n"
      ]
    },
    {
      "attachments": {},
      "cell_type": "markdown",
      "metadata": {},
      "source": [
        "<b> 소융대 ICT 2022-2학기 학생회비"
      ]
    },
    {
      "cell_type": "code",
      "execution_count": 46,
      "metadata": {
        "id": "pxQndKXO3kiT"
      },
      "outputs": [
        {
          "name": "stdout",
          "output_type": "stream",
          "text": [
            "14916900 원\n",
            "14916900 원\n"
          ]
        }
      ],
      "source": [
        "first_balance = ict.loc[1, '잔액']\n",
        "max_balance = ict['잔액'].max()  # '잔액' 열에서 최댓값 찾기\n",
        "print(first_balance,'원')\n",
        "print(max_balance,'원')"
      ]
    },
    {
      "attachments": {},
      "cell_type": "markdown",
      "metadata": {},
      "source": [
        "<b> 소융대 ICT 월별총지출"
      ]
    },
    {
      "cell_type": "code",
      "execution_count": 39,
      "metadata": {
        "id": "-WYCWb-V3Le2"
      },
      "outputs": [
        {
          "data": {
            "image/png": "[encoded data removed]",
            "text/plain": [
              "<Figure size 720x432 with 1 Axes>"
            ]
          },
          "metadata": {
            "needs_background": "light"
          },
          "output_type": "display_data"
        }
      ],
      "source": [
        "import matplotlib.pyplot as plt\n",
        "import seaborn as sns\n",
        "import matplotlib.font_manager as fm\n",
        "\n",
        "# Set font properties for Korean\n",
        "font_location = 'C:/Windows/Fonts/malgun.ttf'  # For Windows\n",
        "font_name = fm.FontProperties(fname=font_location).get_name()\n",
        "plt.rcParams['font.family'] = font_name\n",
        "\n",
        "# Convert the '날짜' column to datetime format\n",
        "ict['날짜'] = pd.to_datetime(ict['날짜'])\n",
        "\n",
        "# Extract the month from the '날짜' column and create a new '월' column\n",
        "ict['월'] = ict['날짜'].dt.month\n",
        "\n",
        "# Group the data by month and sum the '지출' column\n",
        "monthly_expenses = ict.groupby('월')['지출'].sum().reset_index()\n",
        "\n",
        "# Set the color palette to pastel\n",
        "sns.set_palette(\"pastel\")\n",
        "\n",
        "# Create a bar plot of the total expenses per month\n",
        "plt.figure(figsize=(10, 6))\n",
        "ax = sns.barplot(x='월', y='지출', data=monthly_expenses)\n",
        "ax.set(xlabel='월', ylabel='지출', title='월별 총 지출')\n",
        "plt.show()\n"
      ]
    },
    {
      "cell_type": "code",
      "execution_count": 44,
      "metadata": {
        "id": "6IdoTXlX3LZY"
      },
      "outputs": [
        {
          "data": {
            "image/png": "[encoded data removed]",
            "text/plain": [
              "<Figure size 720x432 with 1 Axes>"
            ]
          },
          "metadata": {},
          "output_type": "display_data"
        }
      ],
      "source": [
        "# Extract the category name from the '사업' column and create a new '사업명' column\n",
        "ict['사업명'] = ict['사업'].str.split('_').str[0]\n",
        "\n",
        "# Calculate the total spending for each category name\n",
        "category_name_spending = ict.groupby('사업명')['지출'].sum()\n",
        "\n",
        "# Create a pie chart of the spending for each category name\n",
        "fig, ax = plt.subplots(figsize=(10, 6))\n",
        "category_name_spending.plot.pie(autopct='%1.1f%%', startangle=90, counterclock=False, ax=ax)\n",
        "ax.set_title('카테고리별 총 지출 (사업명)')\n",
        "ax.set_ylabel('')\n",
        "\n",
        "plt.show()\n"
      ]
    },
    {
      "attachments": {},
      "cell_type": "markdown",
      "metadata": {},
      "source": [
        "<b> ICT에서 가장 많았던 사업 TOP 10"
      ]
    },
    {
      "cell_type": "code",
      "execution_count": 43,
      "metadata": {
        "id": "hA6b3aWJ3LQ4"
      },
      "outputs": [
        {
          "data": {
            "text/html": [
              "<div>\n",
              "<style scoped>\n",
              "    .dataframe tbody tr th:only-of-type {\n",
              "        vertical-align: middle;\n",
              "    }\n",
              "\n",
              "    .dataframe tbody tr th {\n",
              "        vertical-align: top;\n",
              "    }\n",
              "\n",
              "    .dataframe thead th {\n",
              "        text-align: right;\n",
              "    }\n",
              "</style>\n",
              "<table border=\"1\" class=\"dataframe\">\n",
              "  <thead>\n",
              "    <tr style=\"text-align: right;\">\n",
              "      <th></th>\n",
              "      <th>날짜</th>\n",
              "      <th>내용</th>\n",
              "      <th>수입</th>\n",
              "      <th>지출</th>\n",
              "      <th>잔액</th>\n",
              "      <th>세부항목</th>\n",
              "      <th>월</th>\n",
              "      <th>사업</th>\n",
              "    </tr>\n",
              "  </thead>\n",
              "  <tbody>\n",
              "    <tr>\n",
              "      <th>15</th>\n",
              "      <td>2022-06-25</td>\n",
              "      <td>전창한</td>\n",
              "      <td>0</td>\n",
              "      <td>2500000</td>\n",
              "      <td>9811690</td>\n",
              "      <td>[과MT_버스 대절]\\n(주)그린코리아관광\\n45인승버스 (700,000원 * 3대...</td>\n",
              "      <td>6</td>\n",
              "      <td>과MT_버스 대절</td>\n",
              "    </tr>\n",
              "    <tr>\n",
              "      <th>9</th>\n",
              "      <td>2022-06-24</td>\n",
              "      <td>쿠팡</td>\n",
              "      <td>0</td>\n",
              "      <td>1187480</td>\n",
              "      <td>12657490</td>\n",
              "      <td>[과MT_물품 구매]\\n곰곰 바지락 술찜 (냉동), 450g, 2개입 (12,590...</td>\n",
              "      <td>6</td>\n",
              "      <td>과MT_물품 구매</td>\n",
              "    </tr>\n",
              "    <tr>\n",
              "      <th>19</th>\n",
              "      <td>2022-06-25</td>\n",
              "      <td>김광희</td>\n",
              "      <td>0</td>\n",
              "      <td>1000000</td>\n",
              "      <td>7536250</td>\n",
              "      <td>[과MT_숙소 숙박비]\\n[대성랜드]\\n(2022-05-09에 선입금한 300,00...</td>\n",
              "      <td>6</td>\n",
              "      <td>과MT_숙소 숙박비</td>\n",
              "    </tr>\n",
              "    <tr>\n",
              "      <th>17</th>\n",
              "      <td>2022-06-25</td>\n",
              "      <td>장원유통(주)</td>\n",
              "      <td>0</td>\n",
              "      <td>777700</td>\n",
              "      <td>8553990</td>\n",
              "      <td>[과MT_물품 구매]\\n[장원식자재마트]\\n참이슬후레쉬지함 360ml 20입 (31...</td>\n",
              "      <td>6</td>\n",
              "      <td>과MT_물품 구매</td>\n",
              "    </tr>\n",
              "    <tr>\n",
              "      <th>81</th>\n",
              "      <td>2022-12-21</td>\n",
              "      <td>윤채은(칠성포차한양</td>\n",
              "      <td>0</td>\n",
              "      <td>761500</td>\n",
              "      <td>2991140</td>\n",
              "      <td>[2학기 종강총회_카드결제]\\n통삼겹두루치기 (18,000원 * 7개)\\n돈서방김치...</td>\n",
              "      <td>12</td>\n",
              "      <td>2학기 종강총회_카드결제</td>\n",
              "    </tr>\n",
              "    <tr>\n",
              "      <th>63</th>\n",
              "      <td>2022-10-17</td>\n",
              "      <td>팔칠달강정 한</td>\n",
              "      <td>0</td>\n",
              "      <td>650000</td>\n",
              "      <td>5336278</td>\n",
              "      <td>[중간고사 야식사업]\\n[87닭강정] 87오리지널(中: 아쉬운 2인분) (13,00...</td>\n",
              "      <td>10</td>\n",
              "      <td>중간고사 야식사업</td>\n",
              "    </tr>\n",
              "    <tr>\n",
              "      <th>74</th>\n",
              "      <td>2022-12-09</td>\n",
              "      <td>듬박이찌개(안</td>\n",
              "      <td>0</td>\n",
              "      <td>600000</td>\n",
              "      <td>4255548</td>\n",
              "      <td>[기말고사 야식사업]\\n[듬박이 김치찌개 안산한대점] \\n매운 김치갈비찜 메 (23...</td>\n",
              "      <td>12</td>\n",
              "      <td>기말고사 야식사업</td>\n",
              "    </tr>\n",
              "    <tr>\n",
              "      <th>6</th>\n",
              "      <td>2022-06-23</td>\n",
              "      <td>쿠팡</td>\n",
              "      <td>0</td>\n",
              "      <td>485330</td>\n",
              "      <td>13918170</td>\n",
              "      <td>[과MT_물품 구매]\\n오뚜기 맛있는 오뚜기밥, 210g, 36개 (32,190원 ...</td>\n",
              "      <td>6</td>\n",
              "      <td>과MT_물품 구매</td>\n",
              "    </tr>\n",
              "    <tr>\n",
              "      <th>16</th>\n",
              "      <td>2022-06-25</td>\n",
              "      <td>김연태</td>\n",
              "      <td>0</td>\n",
              "      <td>480000</td>\n",
              "      <td>9331690</td>\n",
              "      <td>[과MT_물품 구매]\\n삼겹살(오스트리아)907012900003 (10,000원 *...</td>\n",
              "      <td>6</td>\n",
              "      <td>과MT_물품 구매</td>\n",
              "    </tr>\n",
              "    <tr>\n",
              "      <th>80</th>\n",
              "      <td>2022-12-19</td>\n",
              "      <td>쿠팡</td>\n",
              "      <td>0</td>\n",
              "      <td>337020</td>\n",
              "      <td>3752640</td>\n",
              "      <td>[2학기 종강총회 상품 구매]\\n해피데이 포켓형 대용량 핫팩 150g, 50개 (2...</td>\n",
              "      <td>12</td>\n",
              "      <td>2학기 종강총회 상품 구매</td>\n",
              "    </tr>\n",
              "  </tbody>\n",
              "</table>\n",
              "</div>"
            ],
            "text/plain": [
              "           날짜          내용  수입       지출        잔액  \\\n",
              "15 2022-06-25         전창한   0  2500000   9811690   \n",
              "9  2022-06-24          쿠팡   0  1187480  12657490   \n",
              "19 2022-06-25         김광희   0  1000000   7536250   \n",
              "17 2022-06-25     장원유통(주)   0   777700   8553990   \n",
              "81 2022-12-21  윤채은(칠성포차한양   0   761500   2991140   \n",
              "63 2022-10-17     팔칠달강정 한   0   650000   5336278   \n",
              "74 2022-12-09     듬박이찌개(안   0   600000   4255548   \n",
              "6  2022-06-23          쿠팡   0   485330  13918170   \n",
              "16 2022-06-25         김연태   0   480000   9331690   \n",
              "80 2022-12-19          쿠팡   0   337020   3752640   \n",
              "\n",
              "                                                 세부항목   월              사업  \n",
              "15  [과MT_버스 대절]\\n(주)그린코리아관광\\n45인승버스 (700,000원 * 3대...   6       과MT_버스 대절  \n",
              "9   [과MT_물품 구매]\\n곰곰 바지락 술찜 (냉동), 450g, 2개입 (12,590...   6       과MT_물품 구매  \n",
              "19  [과MT_숙소 숙박비]\\n[대성랜드]\\n(2022-05-09에 선입금한 300,00...   6      과MT_숙소 숙박비  \n",
              "17  [과MT_물품 구매]\\n[장원식자재마트]\\n참이슬후레쉬지함 360ml 20입 (31...   6       과MT_물품 구매  \n",
              "81  [2학기 종강총회_카드결제]\\n통삼겹두루치기 (18,000원 * 7개)\\n돈서방김치...  12   2학기 종강총회_카드결제  \n",
              "63  [중간고사 야식사업]\\n[87닭강정] 87오리지널(中: 아쉬운 2인분) (13,00...  10       중간고사 야식사업  \n",
              "74  [기말고사 야식사업]\\n[듬박이 김치찌개 안산한대점] \\n매운 김치갈비찜 메 (23...  12       기말고사 야식사업  \n",
              "6   [과MT_물품 구매]\\n오뚜기 맛있는 오뚜기밥, 210g, 36개 (32,190원 ...   6       과MT_물품 구매  \n",
              "16  [과MT_물품 구매]\\n삼겹살(오스트리아)907012900003 (10,000원 *...   6       과MT_물품 구매  \n",
              "80  [2학기 종강총회 상품 구매]\\n해피데이 포켓형 대용량 핫팩 150g, 50개 (2...  12  2학기 종강총회 상품 구매  "
            ]
          },
          "execution_count": 43,
          "metadata": {},
          "output_type": "execute_result"
        }
      ],
      "source": [
        "# Sort the DataFrame by the '지출' column in descending order\n",
        "sorted_ict = ict[ict['사업'] != '학생회비 이전'].sort_values('지출', ascending=False)\n",
        "\n",
        "# Display the top 10 items with the highest spending excluding '학생회비 이전' and any rows with '환불' in the '세부항목' column\n",
        "top_spending_items = sorted_ict[~sorted_ict['세부항목'].str.contains('환불') & (sorted_ict['사업'] != '학생회비 이전')].head(10)\n",
        "top_spending_items\n"
      ]
    },
    {
      "cell_type": "code",
      "execution_count": 42,
      "metadata": {},
      "outputs": [
        {
          "data": {
            "image/png": "[encoded data removed]",
            "text/plain": [
              "<Figure size 720x432 with 1 Axes>"
            ]
          },
          "metadata": {
            "needs_background": "light"
          },
          "output_type": "display_data"
        },
        {
          "data": {
            "text/html": [
              "<div>\n",
              "<style scoped>\n",
              "    .dataframe tbody tr th:only-of-type {\n",
              "        vertical-align: middle;\n",
              "    }\n",
              "\n",
              "    .dataframe tbody tr th {\n",
              "        vertical-align: top;\n",
              "    }\n",
              "\n",
              "    .dataframe thead th {\n",
              "        text-align: right;\n",
              "    }\n",
              "</style>\n",
              "<table border=\"1\" class=\"dataframe\">\n",
              "  <thead>\n",
              "    <tr style=\"text-align: right;\">\n",
              "      <th></th>\n",
              "      <th>날짜</th>\n",
              "      <th>세부 항목 (축약)</th>\n",
              "      <th>지출</th>\n",
              "    </tr>\n",
              "  </thead>\n",
              "  <tbody>\n",
              "    <tr>\n",
              "      <th>1</th>\n",
              "      <td>2022-06-25</td>\n",
              "      <td>[과MT_버스 대절]\\n(주)그린코리아...</td>\n",
              "      <td>2500000</td>\n",
              "    </tr>\n",
              "    <tr>\n",
              "      <th>2</th>\n",
              "      <td>2022-06-24</td>\n",
              "      <td>[과MT_물품 구매]\\n곰곰 바지락 술...</td>\n",
              "      <td>1187480</td>\n",
              "    </tr>\n",
              "    <tr>\n",
              "      <th>3</th>\n",
              "      <td>2022-06-25</td>\n",
              "      <td>[과MT_숙소 숙박비]\\n[대성랜드]\\n...</td>\n",
              "      <td>1000000</td>\n",
              "    </tr>\n",
              "    <tr>\n",
              "      <th>4</th>\n",
              "      <td>2022-06-25</td>\n",
              "      <td>[과MT_물품 구매]\\n[장원식자재마트...</td>\n",
              "      <td>777700</td>\n",
              "    </tr>\n",
              "    <tr>\n",
              "      <th>5</th>\n",
              "      <td>2022-12-21</td>\n",
              "      <td>[2학기 종강총회_카드결제]\\n통삼겹두...</td>\n",
              "      <td>761500</td>\n",
              "    </tr>\n",
              "    <tr>\n",
              "      <th>6</th>\n",
              "      <td>2022-10-17</td>\n",
              "      <td>[중간고사 야식사업]\\n[87닭강정] ...</td>\n",
              "      <td>650000</td>\n",
              "    </tr>\n",
              "    <tr>\n",
              "      <th>7</th>\n",
              "      <td>2022-12-09</td>\n",
              "      <td>[기말고사 야식사업]\\n[듬박이 김치찌...</td>\n",
              "      <td>600000</td>\n",
              "    </tr>\n",
              "    <tr>\n",
              "      <th>8</th>\n",
              "      <td>2022-06-23</td>\n",
              "      <td>[과MT_물품 구매]\\n오뚜기 맛있는 ...</td>\n",
              "      <td>485330</td>\n",
              "    </tr>\n",
              "    <tr>\n",
              "      <th>9</th>\n",
              "      <td>2022-06-25</td>\n",
              "      <td>[과MT_물품 구매]\\n삼겹살(오스트리...</td>\n",
              "      <td>480000</td>\n",
              "    </tr>\n",
              "    <tr>\n",
              "      <th>10</th>\n",
              "      <td>2022-12-19</td>\n",
              "      <td>[2학기 종강총회 상품 구매]\\n해피데...</td>\n",
              "      <td>337020</td>\n",
              "    </tr>\n",
              "  </tbody>\n",
              "</table>\n",
              "</div>"
            ],
            "text/plain": [
              "           날짜                 세부 항목 (축약)       지출\n",
              "1  2022-06-25   [과MT_버스 대절]\\n(주)그린코리아...  2500000\n",
              "2  2022-06-24   [과MT_물품 구매]\\n곰곰 바지락 술...  1187480\n",
              "3  2022-06-25  [과MT_숙소 숙박비]\\n[대성랜드]\\n...  1000000\n",
              "4  2022-06-25   [과MT_물품 구매]\\n[장원식자재마트...   777700\n",
              "5  2022-12-21   [2학기 종강총회_카드결제]\\n통삼겹두...   761500\n",
              "6  2022-10-17   [중간고사 야식사업]\\n[87닭강정] ...   650000\n",
              "7  2022-12-09   [기말고사 야식사업]\\n[듬박이 김치찌...   600000\n",
              "8  2022-06-23   [과MT_물품 구매]\\n오뚜기 맛있는 ...   485330\n",
              "9  2022-06-25   [과MT_물품 구매]\\n삼겹살(오스트리...   480000\n",
              "10 2022-12-19   [2학기 종강총회 상품 구매]\\n해피데...   337020"
            ]
          },
          "execution_count": 42,
          "metadata": {},
          "output_type": "execute_result"
        }
      ],
      "source": [
        "# Truncate the '세부항목' column to a maximum of 20 characters\n",
        "top10_expenses['세부항목_축약'] = top10_expenses['세부항목'].str.slice(0, 20) + \"...\"\n",
        "\n",
        "# Create a bar plot of the top 10 expenses by '세부항목_축약'\n",
        "plt.figure(figsize=(10, 6))\n",
        "ax = sns.barplot(x='지출', y='세부항목_축약', data=top10_expenses)\n",
        "ax.set(xlabel='지출', ylabel='세부 항목 (축약)', title='지출이 많은 상위 10개 세부 항목 (축약)')\n",
        "plt.show()\n",
        "\n",
        "# Display the top 10 expenses as a table\n",
        "top10_expenses_table = top10_expenses[['날짜', '세부항목_축약', '지출']].reset_index(drop=True)\n",
        "top10_expenses_table.index += 1\n",
        "top10_expenses_table.columns = ['날짜', '세부 항목 (축약)', '지출']\n",
        "top10_expenses_table\n"
      ]
    }
  ],
  "metadata": {
    "colab": {
      "provenance": []
    },
    "kernelspec": {
      "display_name": "Python 3",
      "name": "python3"
    },
    "language_info": {
      "codemirror_mode": {
        "name": "ipython",
        "version": 3
      },
      "file_extension": ".py",
      "mimetype": "text/x-python",
      "name": "python",
      "nbconvert_exporter": "python",
      "pygments_lexer": "ipython3",
      "version": "3.8.3"
    }
  },
  "nbformat": 4,
  "nbformat_minor": 0
}
