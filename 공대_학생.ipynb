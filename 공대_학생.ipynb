{
  "nbformat": 4,
  "nbformat_minor": 0,
  "metadata": {
    "colab": {
      "provenance": []
    },
    "kernelspec": {
      "name": "python3",
      "display_name": "Python 3"
    },
    "language_info": {
      "name": "python"
    }
  },
  "cells": [
    {
      "cell_type": "code",
      "source": [
        "!pip install xlrd\n",
        "!pip install openpyxl"
      ],
      "metadata": {
        "colab": {
          "base_uri": "https://localhost:8080/"
        },
        "id": "mTxqE8Ixn6qx",
        "outputId": "983c299e-805b-4eb6-b76c-fc0bbc5c30ad"
      },
      "execution_count": 2,
      "outputs": [
        {
          "output_type": "stream",
          "name": "stdout",
          "text": [
            "Looking in indexes: https://pypi.org/simple, https://us-python.pkg.dev/colab-wheels/public/simple/\n",
            "Requirement already satisfied: xlrd in /usr/local/lib/python3.10/dist-packages (2.0.1)\n",
            "Looking in indexes: https://pypi.org/simple, https://us-python.pkg.dev/colab-wheels/public/simple/\n",
            "Requirement already satisfied: openpyxl in /usr/local/lib/python3.10/dist-packages (3.0.10)\n",
            "Requirement already satisfied: et-xmlfile in /usr/local/lib/python3.10/dist-packages (from openpyxl) (1.1.0)\n"
          ]
        }
      ]
    },
    {
      "cell_type": "code",
      "execution_count": 3,
      "metadata": {
        "id": "YAJZk8QZg2ZO",
        "colab": {
          "base_uri": "https://localhost:8080/"
        },
        "outputId": "d0d2a2ee-6efb-483c-b0e3-4a07ce9c64d2"
      },
      "outputs": [
        {
          "output_type": "stream",
          "name": "stdout",
          "text": [
            "Drive already mounted at /content/drive; to attempt to forcibly remount, call drive.mount(\"/content/drive\", force_remount=True).\n"
          ]
        }
      ],
      "source": [
        "import csv\n",
        "import numpy as np\n",
        "import pandas as pd\n",
        "import matplotlib.pyplot as plt\n",
        "from google.colab import drive\n",
        "drive.mount('/content/drive')"
      ]
    },
    {
      "cell_type": "code",
      "source": [
        "name = ['건설환경공학과','건축학부',\n",
        "        '교통물류공학과','국방정보공학과',\n",
        "        '기계공학과','로봇공학과',\n",
        "        '산업경영공학과','생명나노공학과',\n",
        "        '스마트융합공학과','재료화학공학과']"
      ],
      "metadata": {
        "id": "dzs5Ih1D1TpF"
      },
      "execution_count": 77,
      "outputs": []
    },
    {
      "cell_type": "code",
      "source": [
        "i = int(input())"
      ],
      "metadata": {
        "colab": {
          "base_uri": "https://localhost:8080/"
        },
        "id": "6XL0OHy02_sa",
        "outputId": "546deb34-0961-43fb-e99a-135e74c70733"
      },
      "execution_count": 156,
      "outputs": [
        {
          "name": "stdout",
          "output_type": "stream",
          "text": [
            "9\n"
          ]
        }
      ]
    },
    {
      "cell_type": "code",
      "source": [
        "Uni_name = name[i]\n",
        "path_name = '/content/drive/MyDrive/공대 데이터/' + Uni_name + '.xlsx'\n",
        "df = pd.read_excel(path_name)\n",
        "df = df.fillna(0)\n",
        "\n",
        "if i > 7:\n",
        "  df.columns = ['날짜', '내용', '수입', '지출', '잔액', '사업', '세부항목', '영수증']\n",
        "print(df)"
      ],
      "metadata": {
        "colab": {
          "base_uri": "https://localhost:8080/"
        },
        "id": "x5wvcEQsjzie",
        "outputId": "4cb87ba2-0f0f-48bc-c861-c1d0f22dab74"
      },
      "execution_count": 168,
      "outputs": [
        {
          "output_type": "stream",
          "name": "stdout",
          "text": [
            "            날짜                 내용       수입     지출       잔액    사업  \\\n",
            "0   2022-01-11           계좌 신규 개설        0      0        0     0   \n",
            "1   2022-01-11    전년도 학생회비 이월(회장)  3900226      0  3900226  학생회비   \n",
            "2   2022-02-23     카카오뱅크 계좌 개설 확인        1      0  3900227  학생회비   \n",
            "3   2022-02-23  신입생 오티 상품 기프티콘 구매        0  18000  3882227  과내행사   \n",
            "4   2022-02-23  신입생 오티 상품 기프티콘 구매        0  51000  3831227  과내행사   \n",
            "..         ...                ...      ...    ...      ...   ...   \n",
            "325 2022-12-23        4분기 생일자 이벤트        0  19000  2005236  과내행사   \n",
            "326 2022-12-23        4분기 생일자 이벤트        0  18900  1986336  과내행사   \n",
            "327 2022-12-23        4분기 생일자 이벤트        0  19900  1966436  과내행사   \n",
            "328 2022-12-23        4분기 생일자 이벤트        0  19900  1946536  과내행사   \n",
            "329 2022-12-23        4분기 생일자 이벤트        0  16900  1929636  과내행사   \n",
            "\n",
            "                                세부항목   영수증  \n",
            "0                                  0     0  \n",
            "1                                서성주  첨부 完  \n",
            "2                     수수료 확인 문자_말린수박     0  \n",
            "3                     CU 페레로로쉐5구 *5개  첨부 完  \n",
            "4    스타벅스 카페 아메리카노 T+7레이어 가나슈 케이크*5개  첨부 完  \n",
            "..                               ...   ...  \n",
            "325            퍼퓸 핸드 크림 50ml_19,000원  첨부 完  \n",
            "326          푸라닭 치킨+콜라 1.25L_18,900원  첨부 完  \n",
            "327            무선 전동 미니 마사지건_19,900원  첨부 完  \n",
            "328              제이로렌 남녀 머플러_19,900원  첨부 完  \n",
            "329           프레시지 블랙라벨 스테이크_16,900원  첨부 完  \n",
            "\n",
            "[330 rows x 8 columns]\n"
          ]
        }
      ]
    },
    {
      "cell_type": "code",
      "source": [
        "if i == 1:\n",
        "  df['날짜'] = pd.to_datetime(df['날짜'], format = '%Y.%m.%d')\n",
        "\n",
        "df['날짜'] = pd.to_datetime(df['날짜'])\n",
        "df['날짜'] = df['날짜'].dt.strftime('%Y-%m-%d')"
      ],
      "metadata": {
        "id": "VG5VOT8ImMBZ"
      },
      "execution_count": 169,
      "outputs": []
    },
    {
      "cell_type": "code",
      "source": [
        "date_df = df[\"날짜\"]\n",
        "content_df = df['내용']\n",
        "income_df = df['수입']\n",
        "spend_df = df['지출']\n",
        "balance_df = df['잔액']\n",
        "purpose_df = df['사업']\n",
        "detail_df = df['세부항목']"
      ],
      "metadata": {
        "id": "_koYhqoYrbPB"
      },
      "execution_count": 170,
      "outputs": []
    },
    {
      "cell_type": "code",
      "source": [
        "income_sum = int(income_df.sum())\n",
        "income_mean = int(income_sum / 7)\n",
        "print('%s의 총 수입은 %s원' %(Uni_name,income_sum))\n",
        "print('%s의 월평균 수입은 %s원' %(Uni_name,income_mean))"
      ],
      "metadata": {
        "colab": {
          "base_uri": "https://localhost:8080/"
        },
        "id": "Y8iGPkV_yLoh",
        "outputId": "77b39407-4487-4148-d776-9fefc9f26b87"
      },
      "execution_count": 171,
      "outputs": [
        {
          "output_type": "stream",
          "name": "stdout",
          "text": [
            "재료화학공학과의 총 수입은 23863870원\n",
            "재료화학공학과의 월평균 수입은 3409124원\n"
          ]
        }
      ]
    },
    {
      "cell_type": "code",
      "source": [
        "spend_sum = int(spend_df.sum())\n",
        "spend_mean = int(spend_sum / 7)\n",
        "print('%s의 총 지출은 %s원' %(Uni_name,spend_sum))\n",
        "print('%s의 월평균 지출은 %s원' %(Uni_name,spend_mean))"
      ],
      "metadata": {
        "colab": {
          "base_uri": "https://localhost:8080/"
        },
        "id": "VQb1GlCs6OH7",
        "outputId": "32918397-f7b1-4866-b701-a42229a1a9c0"
      },
      "execution_count": 172,
      "outputs": [
        {
          "output_type": "stream",
          "name": "stdout",
          "text": [
            "재료화학공학과의 총 지출은 21934234원\n",
            "재료화학공학과의 월평균 지출은 3133462원\n"
          ]
        }
      ]
    },
    {
      "cell_type": "code",
      "source": [
        "# 잔액 그래프\n",
        "plt.plot(date_df, balance_df)\n",
        "plt.xlabel('Date')\n",
        "plt.ylabel('Balance')\n",
        "\n",
        "plt.xticks(date_df, fontsize=5)\n",
        "plt.xticks(date_df, rotation=45)\n",
        "\n",
        "\n",
        "plt.title('Balance')\n",
        "plt.legend()\n",
        "plt.show()"
      ],
      "metadata": {
        "colab": {
          "base_uri": "https://localhost:8080/",
          "height": 529
        },
        "id": "0Og_ENa67nIM",
        "outputId": "10a6acc1-b6e0-48ab-ef17-c1ded33f0803"
      },
      "execution_count": 173,
      "outputs": [
        {
          "output_type": "stream",
          "name": "stderr",
          "text": [
            "WARNING:matplotlib.legend:No artists with labels found to put in legend.  Note that artists whose label start with an underscore are ignored when legend() is called with no argument.\n"
          ]
        },
        {
          "output_type": "display_data",
          "data": {
            "text/plain": [
              "<Figure size 640x480 with 1 Axes>"
            ],
            "image/png": "[encoded data removed]"
          },
          "metadata": {}
        }
      ]
    },
    {
      "cell_type": "code",
      "source": [
        "# 학생회비\n",
        "Total_StudentIncome = df.loc[df['사업'].str.contains('회비', na = False), '수입'].sum()\n",
        "student_income = df.loc[df['사업'].str.contains('회비', na = False), '수입'].mean()\n",
        "\n",
        "# Nan 탈출문\n",
        "if np.isnan(student_income):\n",
        "   student_income = 0\n",
        "\n",
        "if np.isnan(Total_StudentIncome):\n",
        "   Total_StudentIncome = 0\n",
        "\n",
        "print('%s의 학생회비는 %s원' %(Uni_name,student_income))\n",
        "print('%s의 총 학생회비 수입은 %s원' %(Uni_name,Total_StudentIncome))"
      ],
      "metadata": {
        "colab": {
          "base_uri": "https://localhost:8080/"
        },
        "id": "uXSSSQGcASkU",
        "outputId": "e04c37d7-78f7-4861-cb0f-aed5586575f6"
      },
      "execution_count": 174,
      "outputs": [
        {
          "output_type": "stream",
          "name": "stdout",
          "text": [
            "재료화학공학과의 학생회비는 200866.54022988505원\n",
            "재료화학공학과의 총 학생회비 수입은 17475389원\n"
          ]
        }
      ]
    },
    {
      "cell_type": "code",
      "source": [
        "# 야식사업비\n",
        "Snack = df.loc[df['사업'].str.contains('야식', na = False), '지출'].sum(skipna = True)\n",
        "\n",
        "# Nan 탈출문\n",
        "if np.isnan(Snack):\n",
        "  Snack = 0\n",
        "\n",
        "print('%s의 야식사업비는 %s원' %(Uni_name,Snack))"
      ],
      "metadata": {
        "colab": {
          "base_uri": "https://localhost:8080/"
        },
        "id": "sX-acSdE_fcr",
        "outputId": "3a43d06f-cfb2-4bbb-c66b-1becfb1e0bc7"
      },
      "execution_count": 175,
      "outputs": [
        {
          "output_type": "stream",
          "name": "stdout",
          "text": [
            "재료화학공학과의 야식사업비는 0원\n"
          ]
        }
      ]
    },
    {
      "cell_type": "code",
      "source": [
        "Month_df = df[['날짜','지출']]\n",
        "Month_df['날짜'] = pd.to_datetime(Month_df['날짜'])"
      ],
      "metadata": {
        "colab": {
          "base_uri": "https://localhost:8080/"
        },
        "id": "o1IUT2iDKRgc",
        "outputId": "44de07f9-62d1-40a3-a23e-a98c71cf5689"
      },
      "execution_count": 176,
      "outputs": [
        {
          "output_type": "stream",
          "name": "stderr",
          "text": [
            "<ipython-input-176-12590419e728>:2: SettingWithCopyWarning: \n",
            "A value is trying to be set on a copy of a slice from a DataFrame.\n",
            "Try using .loc[row_indexer,col_indexer] = value instead\n",
            "\n",
            "See the caveats in the documentation: https://pandas.pydata.org/pandas-docs/stable/user_guide/indexing.html#returning-a-view-versus-a-copy\n",
            "  Month_df['날짜'] = pd.to_datetime(Month_df['날짜'])\n"
          ]
        }
      ]
    },
    {
      "cell_type": "code",
      "source": [
        "# 날짜를 월로 변환하여 새로운 열 생성\n",
        "Month_df['월'] = pd.to_datetime(Month_df['날짜']).dt.to_period('M')\n",
        "\n",
        "# 월별 지출 합계 계산\n",
        "monthly_spending = Month_df.groupby('월').resample('M', on='날짜').sum()\n",
        "monthly_spending.reset_index(inplace=True)\n",
        "monthly_spending = monthly_spending.drop('날짜', axis = 1)\n",
        "print(monthly_spending)"
      ],
      "metadata": {
        "colab": {
          "base_uri": "https://localhost:8080/"
        },
        "id": "j65kt6KnHCnU",
        "outputId": "0b5480f6-0eb0-4cd6-b3f7-b8f813acc28c"
      },
      "execution_count": 177,
      "outputs": [
        {
          "output_type": "stream",
          "name": "stdout",
          "text": [
            "          월       지출\n",
            "0   2022-01        0\n",
            "1   2022-02   169000\n",
            "2   2022-03  5264733\n",
            "3   2022-04   866900\n",
            "4   2022-05  5955161\n",
            "5   2022-06  1129290\n",
            "6   2022-08  2374850\n",
            "7   2022-09   997000\n",
            "8   2022-10  1454200\n",
            "9   2022-11   456440\n",
            "10  2022-12  3266660\n"
          ]
        },
        {
          "output_type": "stream",
          "name": "stderr",
          "text": [
            "<ipython-input-177-1f033034b4ef>:2: SettingWithCopyWarning: \n",
            "A value is trying to be set on a copy of a slice from a DataFrame.\n",
            "Try using .loc[row_indexer,col_indexer] = value instead\n",
            "\n",
            "See the caveats in the documentation: https://pandas.pydata.org/pandas-docs/stable/user_guide/indexing.html#returning-a-view-versus-a-copy\n",
            "  Month_df['월'] = pd.to_datetime(Month_df['날짜']).dt.to_period('M')\n",
            "<ipython-input-177-1f033034b4ef>:5: FutureWarning: The default value of numeric_only in DataFrameGroupBy.sum is deprecated. In a future version, numeric_only will default to False. Either specify numeric_only or select only columns which should be valid for the function.\n",
            "  monthly_spending = Month_df.groupby('월').resample('M', on='날짜').sum()\n",
            "<ipython-input-177-1f033034b4ef>:5: FutureWarning: The default value of numeric_only in DataFrameGroupBy.sum is deprecated. In a future version, numeric_only will default to False. Either specify numeric_only or select only columns which should be valid for the function.\n",
            "  monthly_spending = Month_df.groupby('월').resample('M', on='날짜').sum()\n",
            "<ipython-input-177-1f033034b4ef>:5: FutureWarning: The default value of numeric_only in DataFrameGroupBy.sum is deprecated. In a future version, numeric_only will default to False. Either specify numeric_only or select only columns which should be valid for the function.\n",
            "  monthly_spending = Month_df.groupby('월').resample('M', on='날짜').sum()\n",
            "<ipython-input-177-1f033034b4ef>:5: FutureWarning: The default value of numeric_only in DataFrameGroupBy.sum is deprecated. In a future version, numeric_only will default to False. Either specify numeric_only or select only columns which should be valid for the function.\n",
            "  monthly_spending = Month_df.groupby('월').resample('M', on='날짜').sum()\n",
            "<ipython-input-177-1f033034b4ef>:5: FutureWarning: The default value of numeric_only in DataFrameGroupBy.sum is deprecated. In a future version, numeric_only will default to False. Either specify numeric_only or select only columns which should be valid for the function.\n",
            "  monthly_spending = Month_df.groupby('월').resample('M', on='날짜').sum()\n",
            "<ipython-input-177-1f033034b4ef>:5: FutureWarning: The default value of numeric_only in DataFrameGroupBy.sum is deprecated. In a future version, numeric_only will default to False. Either specify numeric_only or select only columns which should be valid for the function.\n",
            "  monthly_spending = Month_df.groupby('월').resample('M', on='날짜').sum()\n",
            "<ipython-input-177-1f033034b4ef>:5: FutureWarning: The default value of numeric_only in DataFrameGroupBy.sum is deprecated. In a future version, numeric_only will default to False. Either specify numeric_only or select only columns which should be valid for the function.\n",
            "  monthly_spending = Month_df.groupby('월').resample('M', on='날짜').sum()\n",
            "<ipython-input-177-1f033034b4ef>:5: FutureWarning: The default value of numeric_only in DataFrameGroupBy.sum is deprecated. In a future version, numeric_only will default to False. Either specify numeric_only or select only columns which should be valid for the function.\n",
            "  monthly_spending = Month_df.groupby('월').resample('M', on='날짜').sum()\n",
            "<ipython-input-177-1f033034b4ef>:5: FutureWarning: The default value of numeric_only in DataFrameGroupBy.sum is deprecated. In a future version, numeric_only will default to False. Either specify numeric_only or select only columns which should be valid for the function.\n",
            "  monthly_spending = Month_df.groupby('월').resample('M', on='날짜').sum()\n",
            "<ipython-input-177-1f033034b4ef>:5: FutureWarning: The default value of numeric_only in DataFrameGroupBy.sum is deprecated. In a future version, numeric_only will default to False. Either specify numeric_only or select only columns which should be valid for the function.\n",
            "  monthly_spending = Month_df.groupby('월').resample('M', on='날짜').sum()\n",
            "<ipython-input-177-1f033034b4ef>:5: FutureWarning: The default value of numeric_only in DataFrameGroupBy.sum is deprecated. In a future version, numeric_only will default to False. Either specify numeric_only or select only columns which should be valid for the function.\n",
            "  monthly_spending = Month_df.groupby('월').resample('M', on='날짜').sum()\n"
          ]
        }
      ]
    },
    {
      "cell_type": "code",
      "source": [
        "mp = monthly_spending\n",
        "max_expense = mp['지출'].max()\n",
        "max_month = mp.loc[mp['지출'].idxmax(), '월']\n",
        "\n",
        "print(f\"최대 지출: {max_expense}, 해당 월: {max_month}\")"
      ],
      "metadata": {
        "colab": {
          "base_uri": "https://localhost:8080/"
        },
        "id": "7-U7W_46l0hh",
        "outputId": "f0f6bb16-e7d8-4df3-b1cf-a61faba41dd8"
      },
      "execution_count": 178,
      "outputs": [
        {
          "output_type": "stream",
          "name": "stdout",
          "text": [
            "최대 지출: 5955161, 해당 월: 2022-05\n"
          ]
        }
      ]
    },
    {
      "cell_type": "code",
      "source": [
        "Max_expense = df['지출'].max()\n",
        "Max_purpose = df.loc[df['지출'].idxmax(),'사업']\n",
        "Max_content = df.loc[df['지출'].idxmax(),'내용']\n",
        "\n",
        "print(f\"최대 지출: {Max_expense}, 해당 사업 : {Max_purpose}, 해당 내용 : {Max_content}\")"
      ],
      "metadata": {
        "colab": {
          "base_uri": "https://localhost:8080/"
        },
        "id": "6pes4ZO2q-Jy",
        "outputId": "038a58a5-1f6e-4266-c115-f542d037a0af"
      },
      "execution_count": 180,
      "outputs": [
        {
          "output_type": "stream",
          "name": "stdout",
          "text": [
            "최대 지출: 3541000, 해당 사업 : 공동구매, 해당 내용 : 과잠 구매 비용 송금\n"
          ]
        }
      ]
    }
  ]
}