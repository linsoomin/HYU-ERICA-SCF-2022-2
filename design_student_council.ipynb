{
  "nbformat": 4,
  "nbformat_minor": 0,
  "metadata": {
    "colab": {
      "private_outputs": true,
      "provenance": [],
      "authorship_tag": "ABX9TyMKmdT3xD4Du+wQqZ1boqdk",
      "include_colab_link": true
    },
    "kernelspec": {
      "name": "python3",
      "display_name": "Python 3"
    },
    "language_info": {
      "name": "python"
    }
  },
  "cells": [
    {
      "cell_type": "markdown",
      "metadata": {
        "id": "view-in-github",
        "colab_type": "text"
      },
      "source": [
        "<a href=\"https://colab.research.google.com/github/linsoomin/HYU-ERICA-SCF-2022-2/blob/alsh02/design_student_council.ipynb\" target=\"_parent\"><img src=\"https://colab.research.google.com/assets/colab-badge.svg\" alt=\"Open In Colab\"/></a>"
      ]
    },
    {
      "cell_type": "code",
      "execution_count": null,
      "metadata": {
        "id": "8mg1xXhpzlbY"
      },
      "outputs": [],
      "source": [
        "from google.colab import drive\n",
        "drive.mount('/content/drive')"
      ]
    },
    {
      "cell_type": "code",
      "source": [
        "import pandas as pd\n",
        "import numpy as np"
      ],
      "metadata": {
        "id": "rOHQlzG40EMs"
      },
      "execution_count": null,
      "outputs": []
    },
    {
      "cell_type": "code",
      "source": [
        "total_data = pd.read_excel(\"/content/drive/MyDrive/감사_파일/디대학생회/2022_2학기_중앙감사_디자인대학(단과대학).xlsx\")\n",
        "total_data"
      ],
      "metadata": {
        "id": "94QIEvU60IU-"
      },
      "execution_count": null,
      "outputs": []
    },
    {
      "cell_type": "code",
      "source": [
        "def to_month(month_num):\n",
        "    month = ''\n",
        "    if 1<= month_num < 2:\n",
        "        month = '1월'\n",
        "    elif 2<= month_num < 3:\n",
        "        month = '2월'\n",
        "    elif 3<= month_num < 4:\n",
        "        month = '3월'\n",
        "    elif 4<= month_num < 5:\n",
        "        month = '4월'\n",
        "    elif 5<= month_num < 6:\n",
        "        month = '5월'\n",
        "    elif 6<= month_num < 7:\n",
        "        month = '6월'\n",
        "    elif 7<= month_num < 8:\n",
        "        month = '7월'\n",
        "    elif 8<= month_num < 9:\n",
        "        month = '8월'\n",
        "    elif 9<= month_num < 10:\n",
        "        month = '9월'\n",
        "    elif 10<= month_num < 11:\n",
        "        month = '10월'\n",
        "    elif 11<= month_num < 12:\n",
        "        month = '11월'\n",
        "    else:\n",
        "        month = '12월'\n",
        "        \n",
        "    return month"
      ],
      "metadata": {
        "id": "nsxXOEFD2Apo"
      },
      "execution_count": null,
      "outputs": []
    },
    {
      "cell_type": "code",
      "source": [
        "total_data[\"날짜\"] = pd.to_datetime(total_data[\"날짜\"], format='%Y-%m-%d')\n",
        "total_data[\"날짜\"] = pd.Categorical(\n",
        "    total_data['날짜'].dt.month.apply(to_month), \n",
        "    categories = ['1월', '2월', '3월', '4월', '5월', '6월', '7월', '8월', '9월', '10월', '11월', '12월']\n",
        ")"
      ],
      "metadata": {
        "id": "TA_fvLCA1CzN"
      },
      "execution_count": null,
      "outputs": []
    },
    {
      "cell_type": "code",
      "source": [
        "total_data"
      ],
      "metadata": {
        "id": "O2RfseY23Uri"
      },
      "execution_count": null,
      "outputs": []
    },
    {
      "cell_type": "markdown",
      "source": [
        "## 결측치 확인\n",
        "각 column에 결측치가 어떻게 존재하는지 확인합니다."
      ],
      "metadata": {
        "id": "liQNO5_T5PT6"
      }
    },
    {
      "cell_type": "code",
      "source": [
        "total_data.isna().sum()"
      ],
      "metadata": {
        "id": "UO-Df6PA4lDU"
      },
      "execution_count": null,
      "outputs": []
    },
    {
      "cell_type": "code",
      "source": [
        "total_data[\"수입\"] = total_data[\"수입\"].fillna(0)\n",
        "total_data[\"지출\"] = total_data[\"지출\"].fillna(0)\n",
        "total_data[\"사업\"] = total_data[\"사업\"].fillna(\"-\")\n",
        "total_data[\"세부항목\"] = total_data[\"세부항목\"].fillna(\"-\")"
      ],
      "metadata": {
        "id": "QRBtIcES5YnF"
      },
      "execution_count": null,
      "outputs": []
    },
    {
      "cell_type": "code",
      "source": [
        "total_data"
      ],
      "metadata": {
        "id": "tgOob0_26ZXI"
      },
      "execution_count": null,
      "outputs": []
    },
    {
      "cell_type": "markdown",
      "source": [
        "## 수입 데이터 추출\n",
        "전체 데이터에서 수입 데이터만 추출합니다."
      ],
      "metadata": {
        "id": "pRgUP6WKP2OR"
      }
    },
    {
      "cell_type": "code",
      "source": [
        "income_data = total_data.loc[total_data['수입'] > 0].drop(['지출'], axis=1)\n",
        "income_data"
      ],
      "metadata": {
        "id": "UDRqo3ms7Ni1"
      },
      "execution_count": null,
      "outputs": []
    },
    {
      "cell_type": "markdown",
      "source": [
        "## 지출 데이터 추출\n",
        "전체 데이터에서 지출 데이터만 추출합니다."
      ],
      "metadata": {
        "id": "dC_Cq-drP7fe"
      }
    },
    {
      "cell_type": "code",
      "source": [
        "cost_data = total_data.loc[total_data[\"지출\"] > 0].drop(['수입'], axis=1)\n",
        "cost_data"
      ],
      "metadata": {
        "id": "hKKgqshTPFFA"
      },
      "execution_count": null,
      "outputs": []
    },
    {
      "cell_type": "code",
      "source": [
        "income_by_month = income_data.groupby(\"날짜\")[\"수입\"].sum()\n",
        "income_by_month"
      ],
      "metadata": {
        "id": "QFMkAbsEQa1n"
      },
      "execution_count": null,
      "outputs": []
    },
    {
      "cell_type": "code",
      "source": [
        "cost_by_month = cost_data.groupby(\"날짜\")['지출'].sum() \n",
        "cost_by_month"
      ],
      "metadata": {
        "id": "TI2k_2P_SuV-"
      },
      "execution_count": null,
      "outputs": []
    },
    {
      "cell_type": "markdown",
      "source": [
        "## 시각화\n",
        "월별 수입, 지출 데이터를 도표로 시각화합니다."
      ],
      "metadata": {
        "id": "Qg_7t43iToM-"
      }
    },
    {
      "cell_type": "code",
      "source": [
        "!sudo apt-get install -y fonts-nanum\n",
        "!sudo fc-cache -fv\n",
        "!rm ~/.cache/matplotlib -rf"
      ],
      "metadata": {
        "id": "eL9robj2WWYe"
      },
      "execution_count": null,
      "outputs": []
    },
    {
      "cell_type": "code",
      "source": [
        "import matplotlib.pyplot as plt\n",
        "import matplotlib.ticker as ticker\n",
        "\n",
        "plt.rc('font', family='NanumBarunGothic') "
      ],
      "metadata": {
        "id": "bvDpmTcEQd44"
      },
      "execution_count": null,
      "outputs": []
    },
    {
      "cell_type": "code",
      "source": [
        "month = ['1월', '2월', '3월', '4월', '5월', '6월', '7월', '8월', '9월', '10월', '11월', '12월']\n",
        "\n",
        "plt.figure(figsize=(10, 5), dpi=100)\n",
        "plt.xlabel(\"월\")\n",
        "plt.ylabel(\"금액\")\n",
        "plt.title(\"디자인대학 학생회 월별 수입 / 지출 총액\")\n",
        "\n",
        "plt.gca().yaxis.set_major_formatter(\\\n",
        "ticker.FuncFormatter(lambda y, pos: \n",
        "'{:,.0f}'.format(y/10000) + '만원'))\n",
        "\n",
        "plt.axhline(y=0)\n",
        "plt.bar(month, income_by_month, width=0.3, color=\"dodgerblue\")\n",
        "plt.bar(month, -cost_by_month, width=0.3, color=\"red\")\n",
        "\n",
        "for i in range(len(month)):\n",
        "    height1 = income_by_month[i]\n",
        "    if height1 != 0:\n",
        "      plt.text(month[i], height1 * 1.005, '{:,.1f}'.format(height1/10000) + '만원', ha='center', va='bottom', size=8)\n",
        "\n",
        "    height2 = cost_by_month[i]\n",
        "    if height2 != 0:\n",
        "      plt.text(month[i], height2 * -1.005, '{:,.1f}'.format(height2/10000) + '만원', ha='center', va='top', size=8)\n"
      ],
      "metadata": {
        "id": "cCq4zEOsTnXA"
      },
      "execution_count": null,
      "outputs": []
    }
  ]
}